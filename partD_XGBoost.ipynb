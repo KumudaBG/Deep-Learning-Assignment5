{
  "nbformat": 4,
  "nbformat_minor": 0,
  "metadata": {
    "colab": {
      "name": "partD XGBoost.ipynb",
      "provenance": [],
      "toc_visible": true,
      "authorship_tag": "ABX9TyPxfMzfbfNyMcVTZUDizEbg",
      "include_colab_link": true
    },
    "kernelspec": {
      "name": "python3",
      "display_name": "Python 3"
    },
    "language_info": {
      "name": "python"
    }
  },
  "cells": [
    {
      "cell_type": "markdown",
      "metadata": {
        "id": "view-in-github",
        "colab_type": "text"
      },
      "source": [
        "<a href=\"https://colab.research.google.com/github/KumudaBG/Deep-Learning-Assignment5/blob/main/partD_XGBoost.ipynb\" target=\"_parent\"><img src=\"https://colab.research.google.com/assets/colab-badge.svg\" alt=\"Open In Colab\"/></a>"
      ]
    },
    {
      "cell_type": "markdown",
      "metadata": {
        "id": "_TscwuPabvRA"
      },
      "source": [
        "#Import NYC data from Kaggle"
      ]
    },
    {
      "cell_type": "code",
      "metadata": {
        "id": "-KSKZaZ_9RSh"
      },
      "source": [
        "import json\n",
        "kaggle_json = {\"username\":\"kumudabg\",\"key\":\"1134be2d95490124194bf94fac598ce7\"}"
      ],
      "execution_count": null,
      "outputs": []
    },
    {
      "cell_type": "code",
      "metadata": {
        "id": "tO0W_esg9URu"
      },
      "source": [
        "import io,os\n",
        "os.makedirs('/content/.kaggle/',exist_ok=True)"
      ],
      "execution_count": null,
      "outputs": []
    },
    {
      "cell_type": "code",
      "metadata": {
        "id": "XO-BSbuC9WgC"
      },
      "source": [
        "os.makedirs('/root/.kaggle/',exist_ok=True)"
      ],
      "execution_count": null,
      "outputs": []
    },
    {
      "cell_type": "code",
      "metadata": {
        "id": "7FUSKsIz9YNI"
      },
      "source": [
        "with open('/content/.kaggle/kaggle.json', 'w') as file:\n",
        "  json.dump(kaggle_json, file)"
      ],
      "execution_count": null,
      "outputs": []
    },
    {
      "cell_type": "code",
      "metadata": {
        "id": "zmzrH4QS9ap-"
      },
      "source": [
        "!cp /content/.kaggle/kaggle.json ~/.kaggle/kaggle.json"
      ],
      "execution_count": null,
      "outputs": []
    },
    {
      "cell_type": "code",
      "metadata": {
        "colab": {
          "base_uri": "https://localhost:8080/"
        },
        "id": "IA6CWS3rcOd5",
        "outputId": "cc45faaa-6c71-4cad-8a06-58fbd2a6a195"
      },
      "source": [
        "! kaggle competitions download -c new-york-city-taxi-fare-prediction"
      ],
      "execution_count": null,
      "outputs": [
        {
          "output_type": "stream",
          "text": [
            "Warning: Your Kaggle API key is readable by other users on this system! To fix this, you can run 'chmod 600 /root/.kaggle/kaggle.json'\n",
            "Warning: Looks like you're using an outdated API Version, please consider updating (server 1.5.12 / client 1.5.4)\n",
            "Downloading test.csv to /content\n",
            "  0% 0.00/960k [00:00<?, ?B/s]\n",
            "100% 960k/960k [00:00<00:00, 65.7MB/s]\n",
            "Downloading GCP-Coupons-Instructions.rtf to /content\n",
            "  0% 0.00/486 [00:00<?, ?B/s]\n",
            "100% 486/486 [00:00<00:00, 448kB/s]\n",
            "Downloading train.csv.zip to /content\n",
            "100% 1.55G/1.56G [00:19<00:00, 57.2MB/s]\n",
            "100% 1.56G/1.56G [00:19<00:00, 84.8MB/s]\n",
            "Downloading sample_submission.csv to /content\n",
            "  0% 0.00/335k [00:00<?, ?B/s]\n",
            "100% 335k/335k [00:00<00:00, 78.5MB/s]\n"
          ],
          "name": "stdout"
        }
      ]
    },
    {
      "cell_type": "code",
      "metadata": {
        "colab": {
          "base_uri": "https://localhost:8080/"
        },
        "id": "kTP5SPPJcw7G",
        "outputId": "a0541d1b-cdbe-4c21-fd39-01e203503bea"
      },
      "source": [
        "! mkdir train\n",
        "! unzip train.csv.zip -d train"
      ],
      "execution_count": null,
      "outputs": [
        {
          "output_type": "stream",
          "text": [
            "mkdir: cannot create directory ‘train’: File exists\n",
            "Archive:  train.csv.zip\n",
            "  inflating: train/train.csv         \n"
          ],
          "name": "stdout"
        }
      ]
    },
    {
      "cell_type": "code",
      "metadata": {
        "id": "lIpcisoBdZfT"
      },
      "source": [
        "import numpy as np\n",
        "import pandas as pd\n",
        "\n",
        "import matplotlib.pyplot as plt\n",
        "import seaborn as sns\n",
        "% matplotlib inline\n",
        "\n",
        "plt.style.use('seaborn-whitegrid')\n",
        "\n",
        "import warnings\n",
        "warnings.filterwarnings('ignore')"
      ],
      "execution_count": null,
      "outputs": []
    },
    {
      "cell_type": "code",
      "metadata": {
        "colab": {
          "base_uri": "https://localhost:8080/"
        },
        "id": "K10AFuRNdWJM",
        "outputId": "c291805f-07d8-4aa9-d1a4-4d427b40cf9d"
      },
      "source": [
        "train=pd.read_csv('/content/train/train.csv',nrows=20000)\n",
        "train.head()\n",
        "print(\"shape of NYC data\", train.shape)\n"
      ],
      "execution_count": null,
      "outputs": [
        {
          "output_type": "stream",
          "text": [
            "shape of NYC data (20000, 8)\n"
          ],
          "name": "stdout"
        }
      ]
    },
    {
      "cell_type": "code",
      "metadata": {
        "colab": {
          "base_uri": "https://localhost:8080/"
        },
        "id": "LFHqmmXsfQGX",
        "outputId": "32693cb8-d2c4-425d-b7eb-60f59f37b8b5"
      },
      "source": [
        "train.dtypes"
      ],
      "execution_count": null,
      "outputs": [
        {
          "output_type": "execute_result",
          "data": {
            "text/plain": [
              "key                   object\n",
              "fare_amount          float64\n",
              "pickup_datetime       object\n",
              "pickup_longitude     float64\n",
              "pickup_latitude      float64\n",
              "dropoff_longitude    float64\n",
              "dropoff_latitude     float64\n",
              "passenger_count        int64\n",
              "dtype: object"
            ]
          },
          "metadata": {
            "tags": []
          },
          "execution_count": 16
        }
      ]
    },
    {
      "cell_type": "code",
      "metadata": {
        "colab": {
          "base_uri": "https://localhost:8080/"
        },
        "id": "ZvQsdCktfXDz",
        "outputId": "0e02dd09-7d40-4a40-c2a2-204f6dac70f2"
      },
      "source": [
        "train.describe()"
      ],
      "execution_count": null,
      "outputs": [
        {
          "output_type": "execute_result",
          "data": {
            "text/html": [
              "<div>\n",
              "<style scoped>\n",
              "    .dataframe tbody tr th:only-of-type {\n",
              "        vertical-align: middle;\n",
              "    }\n",
              "\n",
              "    .dataframe tbody tr th {\n",
              "        vertical-align: top;\n",
              "    }\n",
              "\n",
              "    .dataframe thead th {\n",
              "        text-align: right;\n",
              "    }\n",
              "</style>\n",
              "<table border=\"1\" class=\"dataframe\">\n",
              "  <thead>\n",
              "    <tr style=\"text-align: right;\">\n",
              "      <th></th>\n",
              "      <th>fare_amount</th>\n",
              "      <th>pickup_longitude</th>\n",
              "      <th>pickup_latitude</th>\n",
              "      <th>dropoff_longitude</th>\n",
              "      <th>dropoff_latitude</th>\n",
              "      <th>passenger_count</th>\n",
              "    </tr>\n",
              "  </thead>\n",
              "  <tbody>\n",
              "    <tr>\n",
              "      <th>count</th>\n",
              "      <td>20000.000000</td>\n",
              "      <td>20000.000000</td>\n",
              "      <td>20000.000000</td>\n",
              "      <td>20000.000000</td>\n",
              "      <td>20000.000000</td>\n",
              "      <td>20000.000000</td>\n",
              "    </tr>\n",
              "    <tr>\n",
              "      <th>mean</th>\n",
              "      <td>11.303321</td>\n",
              "      <td>-72.478584</td>\n",
              "      <td>39.921043</td>\n",
              "      <td>-72.497221</td>\n",
              "      <td>39.913606</td>\n",
              "      <td>1.658000</td>\n",
              "    </tr>\n",
              "    <tr>\n",
              "      <th>std</th>\n",
              "      <td>9.541637</td>\n",
              "      <td>10.525376</td>\n",
              "      <td>6.678592</td>\n",
              "      <td>10.460530</td>\n",
              "      <td>6.139231</td>\n",
              "      <td>1.283674</td>\n",
              "    </tr>\n",
              "    <tr>\n",
              "      <th>min</th>\n",
              "      <td>-3.000000</td>\n",
              "      <td>-74.438233</td>\n",
              "      <td>-74.006893</td>\n",
              "      <td>-84.654241</td>\n",
              "      <td>-74.006377</td>\n",
              "      <td>0.000000</td>\n",
              "    </tr>\n",
              "    <tr>\n",
              "      <th>25%</th>\n",
              "      <td>6.000000</td>\n",
              "      <td>-73.992150</td>\n",
              "      <td>40.734706</td>\n",
              "      <td>-73.991224</td>\n",
              "      <td>40.734537</td>\n",
              "      <td>1.000000</td>\n",
              "    </tr>\n",
              "    <tr>\n",
              "      <th>50%</th>\n",
              "      <td>8.500000</td>\n",
              "      <td>-73.981711</td>\n",
              "      <td>40.752680</td>\n",
              "      <td>-73.980217</td>\n",
              "      <td>40.753583</td>\n",
              "      <td>1.000000</td>\n",
              "    </tr>\n",
              "    <tr>\n",
              "      <th>75%</th>\n",
              "      <td>12.500000</td>\n",
              "      <td>-73.966802</td>\n",
              "      <td>40.767443</td>\n",
              "      <td>-73.963729</td>\n",
              "      <td>40.768135</td>\n",
              "      <td>2.000000</td>\n",
              "    </tr>\n",
              "    <tr>\n",
              "      <th>max</th>\n",
              "      <td>180.000000</td>\n",
              "      <td>40.766125</td>\n",
              "      <td>401.083332</td>\n",
              "      <td>40.802437</td>\n",
              "      <td>41.366138</td>\n",
              "      <td>6.000000</td>\n",
              "    </tr>\n",
              "  </tbody>\n",
              "</table>\n",
              "</div>"
            ],
            "text/plain": [
              "        fare_amount  pickup_longitude  ...  dropoff_latitude  passenger_count\n",
              "count  20000.000000      20000.000000  ...      20000.000000     20000.000000\n",
              "mean      11.303321        -72.478584  ...         39.913606         1.658000\n",
              "std        9.541637         10.525376  ...          6.139231         1.283674\n",
              "min       -3.000000        -74.438233  ...        -74.006377         0.000000\n",
              "25%        6.000000        -73.992150  ...         40.734537         1.000000\n",
              "50%        8.500000        -73.981711  ...         40.753583         1.000000\n",
              "75%       12.500000        -73.966802  ...         40.768135         2.000000\n",
              "max      180.000000         40.766125  ...         41.366138         6.000000\n",
              "\n",
              "[8 rows x 6 columns]"
            ]
          },
          "metadata": {
            "tags": []
          },
          "execution_count": 17
        }
      ]
    },
    {
      "cell_type": "code",
      "metadata": {
        "colab": {
          "base_uri": "https://localhost:8080/"
        },
        "id": "uDj9vJ4Afaz5",
        "outputId": "a374cc0c-12bf-498f-efc1-bd9a033a4644"
      },
      "source": [
        "print(\"old size: %d\" % len(train))\n",
        "train = train[train.fare_amount >=0]\n",
        "print(\"New size: %d\" % len(train))"
      ],
      "execution_count": null,
      "outputs": [
        {
          "output_type": "stream",
          "text": [
            "old size: 20000\n",
            "New size: 19997\n"
          ],
          "name": "stdout"
        }
      ]
    },
    {
      "cell_type": "code",
      "metadata": {
        "colab": {
          "base_uri": "https://localhost:8080/"
        },
        "id": "VBkNKLoafskl",
        "outputId": "48c1f32f-ecaf-4bb6-eef8-a824bd518031"
      },
      "source": [
        "# check missing data\n",
        "train.isnull().sum()"
      ],
      "execution_count": null,
      "outputs": [
        {
          "output_type": "execute_result",
          "data": {
            "text/plain": [
              "key                  0\n",
              "fare_amount          0\n",
              "pickup_datetime      0\n",
              "pickup_longitude     0\n",
              "pickup_latitude      0\n",
              "dropoff_longitude    0\n",
              "dropoff_latitude     0\n",
              "passenger_count      0\n",
              "dtype: int64"
            ]
          },
          "metadata": {
            "tags": []
          },
          "execution_count": 19
        }
      ]
    },
    {
      "cell_type": "code",
      "metadata": {
        "colab": {
          "base_uri": "https://localhost:8080/"
        },
        "id": "z89Lnpl0fv7F",
        "outputId": "9e926ec4-24a9-4aed-b4a8-a9bb673cd2b0"
      },
      "source": [
        "print(\"old size: %d\" % len(train))\n",
        "train = train.dropna(how='any', axis=0)\n",
        "print(\"New size after dropping missing value: %d\" % len(train))"
      ],
      "execution_count": null,
      "outputs": [
        {
          "output_type": "stream",
          "text": [
            "old size: 19997\n",
            "New size after dropping missing value: 19997\n"
          ],
          "name": "stdout"
        }
      ]
    },
    {
      "cell_type": "code",
      "metadata": {
        "colab": {
          "base_uri": "https://localhost:8080/"
        },
        "id": "kHbzSOevf-yc",
        "outputId": "81fe042a-9d94-45ba-8e1d-c953a1a85bc2"
      },
      "source": [
        "train[train.fare_amount >100 ].shape"
      ],
      "execution_count": null,
      "outputs": [
        {
          "output_type": "execute_result",
          "data": {
            "text/plain": [
              "(5, 8)"
            ]
          },
          "metadata": {
            "tags": []
          },
          "execution_count": 21
        }
      ]
    },
    {
      "cell_type": "code",
      "metadata": {
        "colab": {
          "base_uri": "https://localhost:8080/"
        },
        "id": "Fr5LijNMgJA-",
        "outputId": "3abafea1-1b8c-42ec-e8cd-d82b1e0db9d3"
      },
      "source": [
        "# checking for records where passanger count is 0\n",
        "train[train.passenger_count ==0].shape"
      ],
      "execution_count": null,
      "outputs": [
        {
          "output_type": "execute_result",
          "data": {
            "text/plain": [
              "(75, 8)"
            ]
          },
          "metadata": {
            "tags": []
          },
          "execution_count": 22
        }
      ]
    },
    {
      "cell_type": "code",
      "metadata": {
        "id": "bNV9zE7-gS4b"
      },
      "source": [
        "# this function will also be used with the test set below\n",
        "def select_within_test_boundary(df, BB):\n",
        "    return (df.pickup_longitude >= BB[0]) & (df.pickup_longitude <= BB[1]) & \\\n",
        "           (df.pickup_latitude >= BB[2]) & (df.pickup_latitude <= BB[3]) & \\\n",
        "           (df.dropoff_longitude >= BB[0]) & (df.dropoff_longitude <= BB[1]) & \\\n",
        "           (df.dropoff_latitude >= BB[2]) & (df.dropoff_latitude <= BB[3])"
      ],
      "execution_count": null,
      "outputs": []
    },
    {
      "cell_type": "code",
      "metadata": {
        "colab": {
          "base_uri": "https://localhost:8080/"
        },
        "id": "kSO-k3AIgaXh",
        "outputId": "a2277191-a2b8-4db0-b7f9-15389f7ebc8a"
      },
      "source": [
        "BB = (-74.5, -72.8, 40.5, 41.8)\n",
        "print('Old size: %d' % len(train))\n",
        "train = train[select_within_test_boundary(train, BB)]\n",
        "print('New size: %d' % len(train))"
      ],
      "execution_count": null,
      "outputs": [
        {
          "output_type": "stream",
          "text": [
            "Old size: 19997\n",
            "New size: 19572\n"
          ],
          "name": "stdout"
        }
      ]
    },
    {
      "cell_type": "code",
      "metadata": {
        "id": "Dn0Q8RGvgc7A"
      },
      "source": [
        "def prepare_time_features(df):\n",
        "    df['pickup_datetime'] = df['pickup_datetime'].str.slice(0, 16)\n",
        "    df['pickup_datetime'] = pd.to_datetime(df['pickup_datetime'], utc=True, format='%Y-%m-%d %H:%M')\n",
        "    df['hour_of_day'] = df.pickup_datetime.dt.hour\n",
        "#     df['week'] = df.pickup_datetime.dt.week\n",
        "    df['month'] = df.pickup_datetime.dt.month\n",
        "    df[\"year\"] = df.pickup_datetime.dt.year\n",
        "#     df['day_of_year'] = df.pickup_datetime.dt.dayofyear\n",
        "#     df['week_of_year'] = df.pickup_datetime.dt.weekofyear\n",
        "    df[\"weekday\"] = df.pickup_datetime.dt.weekday\n",
        "#     df[\"quarter\"] = df.pickup_datetime.dt.quarter\n",
        "#     df[\"day_of_month\"] = df.pickup_datetime.dt.day\n",
        "    \n",
        "    return df"
      ],
      "execution_count": null,
      "outputs": []
    },
    {
      "cell_type": "code",
      "metadata": {
        "id": "A9wwXADEgsTT"
      },
      "source": [
        "train = prepare_time_features(train)"
      ],
      "execution_count": null,
      "outputs": []
    },
    {
      "cell_type": "code",
      "metadata": {
        "id": "TNJrPKysgs80"
      },
      "source": [
        "def distance(lat1, lon1, lat2, lon2):\n",
        "    p = 0.017453292519943295 # Pi/180\n",
        "    a = 0.5 - np.cos((lat2 - lat1) * p)/2 + np.cos(lat1 * p) * np.cos(lat2 * p) * (1 - np.cos((lon2 - lon1) * p)) / 2\n",
        "    return 0.6213712 * 12742 * np.arcsin(np.sqrt(a))  "
      ],
      "execution_count": null,
      "outputs": []
    },
    {
      "cell_type": "code",
      "metadata": {
        "id": "1mNLcAzjgvnm"
      },
      "source": [
        "train['distance_miles'] = distance(train.pickup_latitude, train.pickup_longitude, \\\n",
        "                                      train.dropoff_latitude, train.dropoff_longitude)"
      ],
      "execution_count": null,
      "outputs": []
    },
    {
      "cell_type": "code",
      "metadata": {
        "id": "ZBr4onqQgx8z"
      },
      "source": [
        "def transform(data):\n",
        "    # Distances to nearby airports, \n",
        "    jfk = (-73.7781, 40.6413)\n",
        "    ewr = (-74.1745, 40.6895)\n",
        "    lgr = (-73.8740, 40.7769)\n",
        "\n",
        "    data['pickup_distance_to_jfk'] = distance(jfk[1], jfk[0],\n",
        "                                         data['pickup_latitude'], data['pickup_longitude'])\n",
        "    data['dropoff_distance_to_jfk'] = distance(jfk[1], jfk[0],\n",
        "                                           data['dropoff_latitude'], data['dropoff_longitude'])\n",
        "    data['pickup_distance_to_ewr'] = distance(ewr[1], ewr[0], \n",
        "                                          data['pickup_latitude'], data['pickup_longitude'])\n",
        "    data['dropoff_distance_to_ewr'] = distance(ewr[1], ewr[0],\n",
        "                                           data['dropoff_latitude'], data['dropoff_longitude'])\n",
        "    data['pickup_distance_to_lgr'] = distance(lgr[1], lgr[0],\n",
        "                                          data['pickup_latitude'], data['pickup_longitude'])\n",
        "    data['dropoff_distance_to_lgr'] = distance(lgr[1], lgr[0],\n",
        "                                           data['dropoff_latitude'], data['dropoff_longitude'])\n",
        "    \n",
        "    return data\n",
        "\n",
        "train = transform(train)"
      ],
      "execution_count": null,
      "outputs": []
    },
    {
      "cell_type": "code",
      "metadata": {
        "colab": {
          "base_uri": "https://localhost:8080/"
        },
        "id": "fFRQXQyzg_Xn",
        "outputId": "7e0872b4-6e02-480c-dbd2-19d312e428e9"
      },
      "source": [
        "print(\"old size: %d\" % len(train))\n",
        "train = train.drop(index= train[(train['distance_miles']==0)&(train['fare_amount']==0)].index, axis=0)\n",
        "print(\"New size: %d\" % len(train))"
      ],
      "execution_count": null,
      "outputs": [
        {
          "output_type": "stream",
          "text": [
            "old size: 19572\n",
            "New size: 19572\n"
          ],
          "name": "stdout"
        }
      ]
    },
    {
      "cell_type": "code",
      "metadata": {
        "colab": {
          "base_uri": "https://localhost:8080/"
        },
        "id": "4wWPJhwohCKJ",
        "outputId": "c24ba2b5-e8dd-4dda-9bb6-453916aaf29e"
      },
      "source": [
        "print(\"old size: %d\" % len(train))\n",
        "train = train.drop(index= train[train['fare_amount']==0].index, axis=0)\n",
        "print(\"New size: %d\" % len(train))"
      ],
      "execution_count": null,
      "outputs": [
        {
          "output_type": "stream",
          "text": [
            "old size: 19572\n",
            "New size: 19571\n"
          ],
          "name": "stdout"
        }
      ]
    },
    {
      "cell_type": "code",
      "metadata": {
        "colab": {
          "base_uri": "https://localhost:8080/"
        },
        "id": "JeVW8GrnhGNG",
        "outputId": "0c256b94-1bf6-49ee-bca4-11605cb43dcc"
      },
      "source": [
        "print(\"old size: %d\" % len(train))\n",
        "train = train.drop(index= train[train['fare_amount'] < 2.5].index, axis=0)\n",
        "print(\"New size: %d\" % len(train))"
      ],
      "execution_count": null,
      "outputs": [
        {
          "output_type": "stream",
          "text": [
            "old size: 19571\n",
            "New size: 19570\n"
          ],
          "name": "stdout"
        }
      ]
    },
    {
      "cell_type": "code",
      "metadata": {
        "colab": {
          "base_uri": "https://localhost:8080/"
        },
        "id": "-ijw9AHJhJKo",
        "outputId": "c8d20bb1-ba61-4c54-83e6-42670bbefc46"
      },
      "source": [
        "print(\"old size: %d\" % len(train))\n",
        "train = train.drop(index= train[train.passenger_count >= 7].index, axis=0)\n",
        "print(\"New size: %d\" % len(train))"
      ],
      "execution_count": null,
      "outputs": [
        {
          "output_type": "stream",
          "text": [
            "old size: 19570\n",
            "New size: 19570\n"
          ],
          "name": "stdout"
        }
      ]
    },
    {
      "cell_type": "code",
      "metadata": {
        "colab": {
          "base_uri": "https://localhost:8080/"
        },
        "id": "3E3bfxfSilnt",
        "outputId": "c6420898-543e-48a0-c997-5c8f95af2e6e"
      },
      "source": [
        "# create copy of the data set\n",
        "df_train = train.drop(columns= ['key','pickup_datetime'], axis= 1).copy()\n",
        "print(df_train.shape)"
      ],
      "execution_count": null,
      "outputs": [
        {
          "output_type": "stream",
          "text": [
            "(19570, 17)\n"
          ],
          "name": "stdout"
        }
      ]
    },
    {
      "cell_type": "code",
      "metadata": {
        "colab": {
          "base_uri": "https://localhost:8080/"
        },
        "id": "yHsI6Gf4fDom",
        "outputId": "c6f1ee17-6fc0-4452-d982-1a23adcbe46f"
      },
      "source": [
        "from sklearn.model_selection import train_test_split \n",
        "X_train, X_test, y_train, y_test = train_test_split(df_train.drop('fare_amount', axis=1),\n",
        "                                                    df_train['fare_amount'], test_size=0.2, random_state = 42)\n",
        "print(X_train.shape)\n",
        "print(X_test.shape)\n",
        "print(y_train.shape)\n",
        "print(y_test.shape)"
      ],
      "execution_count": null,
      "outputs": [
        {
          "output_type": "stream",
          "text": [
            "(15656, 16)\n",
            "(3914, 16)\n",
            "(15656,)\n",
            "(3914,)\n"
          ],
          "name": "stdout"
        }
      ]
    },
    {
      "cell_type": "code",
      "metadata": {
        "id": "s1S1oA6XizmW"
      },
      "source": [
        "import xgboost as xgb"
      ],
      "execution_count": null,
      "outputs": []
    },
    {
      "cell_type": "code",
      "metadata": {
        "id": "_nonYaGSi0p0"
      },
      "source": [
        "params = {\n",
        "   \n",
        "    'max_depth': 7,\n",
        "    'gamma' :0,\n",
        "    'eta':.03, \n",
        "    'subsample': 1,\n",
        "    'colsample_bytree': 0.9, \n",
        "    'objective':'reg:linear',\n",
        "    'eval_metric':'rmse',\n",
        "    'silent': 0\n",
        "}"
      ],
      "execution_count": null,
      "outputs": []
    },
    {
      "cell_type": "code",
      "metadata": {
        "colab": {
          "base_uri": "https://localhost:8080/"
        },
        "id": "xGL_9Kdti3Ll",
        "outputId": "04e9deb8-a01b-45b1-972b-38d0302794d9"
      },
      "source": [
        "def XGBmodel(X_train,X_test,y_train,y_test,params):\n",
        "    matrix_train = xgb.DMatrix(X_train,label=y_train)\n",
        "    matrix_test = xgb.DMatrix(X_test,label=y_test)\n",
        "    model=xgb.train(params=params,\n",
        "                    dtrain=matrix_train,num_boost_round=5000, \n",
        "                    early_stopping_rounds=10,evals=[(matrix_test,'test')])\n",
        "    return model\n",
        "\n",
        "model = XGBmodel(X_train,X_test,y_train,y_test,params)"
      ],
      "execution_count": null,
      "outputs": [
        {
          "output_type": "stream",
          "text": [
            "[04:29:24] WARNING: /workspace/src/objective/regression_obj.cu:152: reg:linear is now deprecated in favor of reg:squarederror.\n",
            "[0]\ttest-rmse:14.0227\n",
            "Will train until test-rmse hasn't improved in 10 rounds.\n",
            "[1]\ttest-rmse:13.6469\n",
            "[2]\ttest-rmse:13.3014\n",
            "[3]\ttest-rmse:12.9481\n",
            "[4]\ttest-rmse:12.607\n",
            "[5]\ttest-rmse:12.2774\n",
            "[6]\ttest-rmse:11.9579\n",
            "[7]\ttest-rmse:11.6489\n",
            "[8]\ttest-rmse:11.3471\n",
            "[9]\ttest-rmse:11.0587\n",
            "[10]\ttest-rmse:10.7921\n",
            "[11]\ttest-rmse:10.5208\n",
            "[12]\ttest-rmse:10.2578\n",
            "[13]\ttest-rmse:10.003\n",
            "[14]\ttest-rmse:9.75694\n",
            "[15]\ttest-rmse:9.51678\n",
            "[16]\ttest-rmse:9.28943\n",
            "[17]\ttest-rmse:9.06845\n",
            "[18]\ttest-rmse:8.85512\n",
            "[19]\ttest-rmse:8.64909\n",
            "[20]\ttest-rmse:8.44952\n",
            "[21]\ttest-rmse:8.25781\n",
            "[22]\ttest-rmse:8.08628\n",
            "[23]\ttest-rmse:7.91123\n",
            "[24]\ttest-rmse:7.74129\n",
            "[25]\ttest-rmse:7.57871\n",
            "[26]\ttest-rmse:7.41894\n",
            "[27]\ttest-rmse:7.26642\n",
            "[28]\ttest-rmse:7.11756\n",
            "[29]\ttest-rmse:6.97602\n",
            "[30]\ttest-rmse:6.83867\n",
            "[31]\ttest-rmse:6.70873\n",
            "[32]\ttest-rmse:6.58341\n",
            "[33]\ttest-rmse:6.46209\n",
            "[34]\ttest-rmse:6.3491\n",
            "[35]\ttest-rmse:6.23876\n",
            "[36]\ttest-rmse:6.13275\n",
            "[37]\ttest-rmse:6.03137\n",
            "[38]\ttest-rmse:5.93529\n",
            "[39]\ttest-rmse:5.84126\n",
            "[40]\ttest-rmse:5.75336\n",
            "[41]\ttest-rmse:5.66856\n",
            "[42]\ttest-rmse:5.58659\n",
            "[43]\ttest-rmse:5.51076\n",
            "[44]\ttest-rmse:5.43435\n",
            "[45]\ttest-rmse:5.36335\n",
            "[46]\ttest-rmse:5.29916\n",
            "[47]\ttest-rmse:5.2349\n",
            "[48]\ttest-rmse:5.17155\n",
            "[49]\ttest-rmse:5.11386\n",
            "[50]\ttest-rmse:5.055\n",
            "[51]\ttest-rmse:5.00222\n",
            "[52]\ttest-rmse:4.94723\n",
            "[53]\ttest-rmse:4.89856\n",
            "[54]\ttest-rmse:4.85021\n",
            "[55]\ttest-rmse:4.80525\n",
            "[56]\ttest-rmse:4.76179\n",
            "[57]\ttest-rmse:4.72053\n",
            "[58]\ttest-rmse:4.67912\n",
            "[59]\ttest-rmse:4.64051\n",
            "[60]\ttest-rmse:4.60525\n",
            "[61]\ttest-rmse:4.57139\n",
            "[62]\ttest-rmse:4.54053\n",
            "[63]\ttest-rmse:4.51042\n",
            "[64]\ttest-rmse:4.4812\n",
            "[65]\ttest-rmse:4.45313\n",
            "[66]\ttest-rmse:4.42674\n",
            "[67]\ttest-rmse:4.40193\n",
            "[68]\ttest-rmse:4.37758\n",
            "[69]\ttest-rmse:4.35453\n",
            "[70]\ttest-rmse:4.33178\n",
            "[71]\ttest-rmse:4.31035\n",
            "[72]\ttest-rmse:4.29172\n",
            "[73]\ttest-rmse:4.27319\n",
            "[74]\ttest-rmse:4.25536\n",
            "[75]\ttest-rmse:4.23825\n",
            "[76]\ttest-rmse:4.22323\n",
            "[77]\ttest-rmse:4.207\n",
            "[78]\ttest-rmse:4.19228\n",
            "[79]\ttest-rmse:4.17767\n",
            "[80]\ttest-rmse:4.16575\n",
            "[81]\ttest-rmse:4.15409\n",
            "[82]\ttest-rmse:4.14128\n",
            "[83]\ttest-rmse:4.12899\n",
            "[84]\ttest-rmse:4.11726\n",
            "[85]\ttest-rmse:4.10739\n",
            "[86]\ttest-rmse:4.09692\n",
            "[87]\ttest-rmse:4.0885\n",
            "[88]\ttest-rmse:4.07919\n",
            "[89]\ttest-rmse:4.07438\n",
            "[90]\ttest-rmse:4.06798\n",
            "[91]\ttest-rmse:4.05793\n",
            "[92]\ttest-rmse:4.05103\n",
            "[93]\ttest-rmse:4.04397\n",
            "[94]\ttest-rmse:4.03652\n",
            "[95]\ttest-rmse:4.03012\n",
            "[96]\ttest-rmse:4.02579\n",
            "[97]\ttest-rmse:4.02098\n",
            "[98]\ttest-rmse:4.01647\n",
            "[99]\ttest-rmse:4.01263\n",
            "[100]\ttest-rmse:4.0053\n",
            "[101]\ttest-rmse:4.00083\n",
            "[102]\ttest-rmse:3.99688\n",
            "[103]\ttest-rmse:3.99394\n",
            "[104]\ttest-rmse:3.99035\n",
            "[105]\ttest-rmse:3.98787\n",
            "[106]\ttest-rmse:3.98649\n",
            "[107]\ttest-rmse:3.98283\n",
            "[108]\ttest-rmse:3.98261\n",
            "[109]\ttest-rmse:3.97952\n",
            "[110]\ttest-rmse:3.97947\n",
            "[111]\ttest-rmse:3.97603\n",
            "[112]\ttest-rmse:3.97702\n",
            "[113]\ttest-rmse:3.977\n",
            "[114]\ttest-rmse:3.97519\n",
            "[115]\ttest-rmse:3.97293\n",
            "[116]\ttest-rmse:3.97104\n",
            "[117]\ttest-rmse:3.97141\n",
            "[118]\ttest-rmse:3.97095\n",
            "[119]\ttest-rmse:3.9716\n",
            "[120]\ttest-rmse:3.96926\n",
            "[121]\ttest-rmse:3.97013\n",
            "[122]\ttest-rmse:3.96986\n",
            "[123]\ttest-rmse:3.96849\n",
            "[124]\ttest-rmse:3.96717\n",
            "[125]\ttest-rmse:3.96587\n",
            "[126]\ttest-rmse:3.96461\n",
            "[127]\ttest-rmse:3.96348\n",
            "[128]\ttest-rmse:3.9636\n",
            "[129]\ttest-rmse:3.96351\n",
            "[130]\ttest-rmse:3.96237\n",
            "[131]\ttest-rmse:3.96199\n",
            "[132]\ttest-rmse:3.96054\n",
            "[133]\ttest-rmse:3.95882\n",
            "[134]\ttest-rmse:3.96052\n",
            "[135]\ttest-rmse:3.96049\n",
            "[136]\ttest-rmse:3.9591\n",
            "[137]\ttest-rmse:3.95845\n",
            "[138]\ttest-rmse:3.9573\n",
            "[139]\ttest-rmse:3.95762\n",
            "[140]\ttest-rmse:3.95704\n",
            "[141]\ttest-rmse:3.95891\n",
            "[142]\ttest-rmse:3.95508\n",
            "[143]\ttest-rmse:3.9538\n",
            "[144]\ttest-rmse:3.95173\n",
            "[145]\ttest-rmse:3.95194\n",
            "[146]\ttest-rmse:3.95176\n",
            "[147]\ttest-rmse:3.95058\n",
            "[148]\ttest-rmse:3.94923\n",
            "[149]\ttest-rmse:3.94778\n",
            "[150]\ttest-rmse:3.94627\n",
            "[151]\ttest-rmse:3.94397\n",
            "[152]\ttest-rmse:3.94165\n",
            "[153]\ttest-rmse:3.94131\n",
            "[154]\ttest-rmse:3.94068\n",
            "[155]\ttest-rmse:3.93987\n",
            "[156]\ttest-rmse:3.93887\n",
            "[157]\ttest-rmse:3.93805\n",
            "[158]\ttest-rmse:3.93616\n",
            "[159]\ttest-rmse:3.93668\n",
            "[160]\ttest-rmse:3.93659\n",
            "[161]\ttest-rmse:3.93595\n",
            "[162]\ttest-rmse:3.93523\n",
            "[163]\ttest-rmse:3.93411\n",
            "[164]\ttest-rmse:3.93388\n",
            "[165]\ttest-rmse:3.93359\n",
            "[166]\ttest-rmse:3.93255\n",
            "[167]\ttest-rmse:3.93376\n",
            "[168]\ttest-rmse:3.93304\n",
            "[169]\ttest-rmse:3.9326\n",
            "[170]\ttest-rmse:3.93011\n",
            "[171]\ttest-rmse:3.92869\n",
            "[172]\ttest-rmse:3.92878\n",
            "[173]\ttest-rmse:3.92772\n",
            "[174]\ttest-rmse:3.92592\n",
            "[175]\ttest-rmse:3.92552\n",
            "[176]\ttest-rmse:3.92622\n",
            "[177]\ttest-rmse:3.92672\n",
            "[178]\ttest-rmse:3.92715\n",
            "[179]\ttest-rmse:3.92515\n",
            "[180]\ttest-rmse:3.92348\n",
            "[181]\ttest-rmse:3.92224\n",
            "[182]\ttest-rmse:3.92208\n",
            "[183]\ttest-rmse:3.92323\n",
            "[184]\ttest-rmse:3.92233\n",
            "[185]\ttest-rmse:3.92185\n",
            "[186]\ttest-rmse:3.923\n",
            "[187]\ttest-rmse:3.92113\n",
            "[188]\ttest-rmse:3.92252\n",
            "[189]\ttest-rmse:3.92179\n",
            "[190]\ttest-rmse:3.92083\n",
            "[191]\ttest-rmse:3.92026\n",
            "[192]\ttest-rmse:3.91955\n",
            "[193]\ttest-rmse:3.9192\n",
            "[194]\ttest-rmse:3.91722\n",
            "[195]\ttest-rmse:3.91651\n",
            "[196]\ttest-rmse:3.91497\n",
            "[197]\ttest-rmse:3.91503\n",
            "[198]\ttest-rmse:3.91424\n",
            "[199]\ttest-rmse:3.91398\n",
            "[200]\ttest-rmse:3.91371\n",
            "[201]\ttest-rmse:3.9133\n",
            "[202]\ttest-rmse:3.91305\n",
            "[203]\ttest-rmse:3.91242\n",
            "[204]\ttest-rmse:3.91241\n",
            "[205]\ttest-rmse:3.91179\n",
            "[206]\ttest-rmse:3.91163\n",
            "[207]\ttest-rmse:3.91158\n",
            "[208]\ttest-rmse:3.91082\n",
            "[209]\ttest-rmse:3.91122\n",
            "[210]\ttest-rmse:3.91201\n",
            "[211]\ttest-rmse:3.9121\n",
            "[212]\ttest-rmse:3.91142\n",
            "[213]\ttest-rmse:3.91041\n",
            "[214]\ttest-rmse:3.91022\n",
            "[215]\ttest-rmse:3.90879\n",
            "[216]\ttest-rmse:3.90954\n",
            "[217]\ttest-rmse:3.90963\n",
            "[218]\ttest-rmse:3.90954\n",
            "[219]\ttest-rmse:3.90964\n",
            "[220]\ttest-rmse:3.90903\n",
            "[221]\ttest-rmse:3.90904\n",
            "[222]\ttest-rmse:3.90896\n",
            "[223]\ttest-rmse:3.90893\n",
            "[224]\ttest-rmse:3.90928\n",
            "[225]\ttest-rmse:3.90853\n",
            "[226]\ttest-rmse:3.90932\n",
            "[227]\ttest-rmse:3.90928\n",
            "[228]\ttest-rmse:3.9089\n",
            "[229]\ttest-rmse:3.90883\n",
            "[230]\ttest-rmse:3.9086\n",
            "[231]\ttest-rmse:3.91035\n",
            "[232]\ttest-rmse:3.91178\n",
            "[233]\ttest-rmse:3.91126\n",
            "[234]\ttest-rmse:3.91072\n",
            "[235]\ttest-rmse:3.9103\n",
            "Stopping. Best iteration:\n",
            "[225]\ttest-rmse:3.90853\n",
            "\n"
          ],
          "name": "stdout"
        }
      ]
    }
  ]
}